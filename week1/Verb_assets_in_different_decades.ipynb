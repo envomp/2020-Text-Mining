{
  "nbformat": 4,
  "nbformat_minor": 0,
  "metadata": {
    "colab": {
      "name": "Verb assets in different decades.ipynb",
      "provenance": [],
      "collapsed_sections": [],
      "authorship_tag": "ABX9TyMvv4/UJJeqMA9+TRmRZatO",
      "include_colab_link": true
    },
    "kernelspec": {
      "name": "python3",
      "display_name": "Python 3"
    }
  },
  "cells": [
    {
      "cell_type": "markdown",
      "metadata": {
        "id": "view-in-github",
        "colab_type": "text"
      },
      "source": [
        "<a href=\"https://colab.research.google.com/github/envomp/2020-Text-Mining/blob/master/week1/Verb_assets_in_different_decades.ipynb\" target=\"_parent\"><img src=\"https://colab.research.google.com/assets/colab-badge.svg\" alt=\"Open In Colab\"/></a>"
      ]
    },
    {
      "cell_type": "code",
      "metadata": {
        "id": "SYUrHxioHQxA",
        "colab_type": "code",
        "colab": {}
      },
      "source": [
        "print(1)\n",
        "\n"
      ],
      "execution_count": null,
      "outputs": []
    }
  ]
}