{
 "nbformat": 4,
 "nbformat_minor": 0,
 "metadata": {
  "colab": {
   "name": "Verb assets in different decades.ipynb",
   "provenance": [],
   "collapsed_sections": [],
   "authorship_tag": "ABX9TyMAv0ff13MPvW60mPuk2j4L",
   "include_colab_link": true
  },
  "kernelspec": {
   "name": "python3",
   "display_name": "Python 3"
  }
 },
 "cells": [
  {
   "cell_type": "markdown",
   "metadata": {
    "id": "view-in-github",
    "colab_type": "text"
   },
   "source": [
    "<a href=\"https://colab.research.google.com/github/envomp/2020-Text-Mining/blob/master/week1/Verb_assets_in_different_decades.ipynb\" target=\"_parent\"><img src=\"https://colab.research.google.com/assets/colab-badge.svg\" alt=\"Open In Colab\"/></a>"
   ]
  },
  {
   "cell_type": "code",
   "metadata": {
    "id": "SYUrHxioHQxA",
    "colab_type": "code",
    "colab": {}
   },
   "source": [
    "!pip install conllu estnltk==1.6.7b0\n",
    "!wget --recursive --no-parent 'https://github.com/google/fonts/raw/master/apache/opensans/OpenSans-Regular.ttf' -P /usr/local/lib/python3.6/dist-packages/matplotlib/mpl-data/fonts/ttf\n",
    "!wget --recursive --no-parent 'https://github.com/google/fonts/raw/master/apache/opensans/OpenSans-Light.ttf' -P /usr/local/lib/python3.6/dist-packages/matplotlib/mpl-data/fonts/ttf\n",
    "!wget --recursive --no-parent 'https://github.com/google/fonts/raw/master/apache/opensans/OpenSans-SemiBold.ttf' -P /usr/local/lib/python3.6/dist-packages/matplotlib/mpl-data/fonts/ttf\n",
    "!wget --recursive --no-parent 'https://github.com/google/fonts/raw/master/apache/opensans/OpenSans-Bold.ttf' -P /usr/local/lib/python3.6/dist-packages/matplotlib/mpl-data/fonts/ttf"
   ],
   "execution_count": null,
   "outputs": []
  },
  {
   "cell_type": "markdown",
   "metadata": {
    "id": "IKe6QKdETtTb",
    "colab_type": "text"
   },
   "source": [
    "Esmalt loeb failid listi ning viib nad paremini käideltatavale kujule"
   ]
  },
  {
   "cell_type": "code",
   "metadata": {
    "id": "dxENjZ3yMbBN",
    "colab_type": "code",
    "colab": {}
   },
   "source": [
    "from estnltk import Text\n",
    "from html import unescape\n",
    "\n",
    "sample_data = [\n",
    "    (\"1890\", \"1890.txt\", \"AJA1890\\epo0101\"),\n",
    "    (\"1930\", \"1930.txt\", \"ESMA\\esma220\"),\n",
    "    (\"1950\", \"1950.txt\", \"AJA1950\\ed0001\"),\n",
    "    (\"1990\", \"1999.txt\", \"AJAE1990\\ee0032\")\n",
    "]\n",
    "\n",
    "# encoding is cp1257 - aka windows1257 because I copied the files to here with that encoding\n",
    "def formatted_data(filename, junk):\n",
    "  return open(filename, \"r\", encoding=\"cp1257\").read().replace(junk, \"\").strip()\n",
    "\n",
    "texts = [\n",
    "    (\n",
    "      year, \n",
    "      Text(unescape(formatted_data(filename, junk)))\n",
    "        .tag_layer(\"words\")\n",
    "        .tag_layer(\"morph_analysis\")\n",
    "    ) for year, filename, junk in sample_data\n",
    "]\n",
    "\n",
    "global_total_occurences = 0\n",
    "global_guessed_right = 0\n",
    "\n",
    "def get_percentage(text):\n",
    "  global global_total_occurences\n",
    "  global global_guessed_right\n",
    "  total_occurences = 0\n",
    "  guessed_right = 0\n",
    "  for item in text.morph_analysis:\n",
    "    if re.match(r\".+[bB]$\", item.text):\n",
    "      global_total_occurences += 1\n",
    "      total_occurences += 1\n",
    "      if \"V\" in item.partofspeech:\n",
    "        global_guessed_right += 1\n",
    "        guessed_right += 1\n",
    "      \n",
    "  return round(100 * (guessed_right / total_occurences), 2)\n",
    "\n",
    "[print(f\"Aastal {year} oli {get_percentage(text)}% b-tähega lõppevad sõnad verbid.\") for year, text in texts]\n",
    "print(f\"Aastate peale keskmiselt olid {round(100 * (global_guessed_right / global_total_occurences), 2)}% b-tähega lõppevad sõnad verbid.\")"
   ],
   "execution_count": null,
   "outputs": []
  },
  {
   "cell_type": "markdown",
   "metadata": {
    "id": "ETVHvZZjXocl",
    "colab_type": "text"
   },
   "source": [
    "Iga faili kohta moodusta b-lõpuliste sõnade 15 kõige sagedasemat tekstisõnate"
   ]
  },
  {
   "cell_type": "code",
   "metadata": {
    "id": "tNae_SioUpxC",
    "colab_type": "code",
    "colab": {}
   },
   "source": [
    "from collections import Counter\n",
    "import re\n",
    "\n",
    "def top_15_ends_with_b(data):\n",
    "  return Counter([x.text for x in data if re.match(r\".+[bB]$\", x.text)]).most_common(15)\n",
    "\n",
    "top_occurances = [\n",
    "  (\n",
    "    year,\n",
    "    top_15_ends_with_b(text.words)\n",
    "  ) for year, text in texts\n",
    "]\n"
   ],
   "execution_count": 188,
   "outputs": []
  },
  {
   "cell_type": "markdown",
   "metadata": {
    "id": "NrKRwnWliWxx",
    "colab_type": "text"
   },
   "source": [
    "Visualiseerime tulemused"
   ]
  },
  {
   "cell_type": "code",
   "metadata": {
    "id": "xINQfbPeiUjk",
    "colab_type": "code",
    "colab": {
     "base_uri": "https://localhost:8080/",
     "height": 738
    },
    "outputId": "02a96d30-c8cb-4f90-ef99-304bb354e3fd"
   },
   "source": [
    "import matplotlib as mpl\n",
    "import matplotlib.pyplot as plt\n",
    "import numpy as np\n",
    "import pandas as pd\n",
    "mpl.font_manager._rebuild()\n",
    "mpl.rc('figure', figsize=(12, 5))\n",
    "\n",
    "for year, result in top_occurances:\n",
    "  # Use the newly integrated Roboto font family for all text.\n",
    "  plt.rc('font', family='Open Sans')\n",
    "  fig, ax = plt.subplots()\n",
    "\n",
    "  # Save the chart so we can loop through the bars below.\n",
    "  bars = ax.bar(\n",
    "      x=[occurances[0] for occurances in result],\n",
    "      height=[occurances[1] for occurances in result]\n",
    "      # tick_label=mpg.index.strftime('%Y')\n",
    "  )\n",
    "\n",
    "  # Axis formatting.\n",
    "  ax.spines['top'].set_visible(False)\n",
    "  ax.spines['right'].set_visible(False)\n",
    "  ax.spines['left'].set_visible(False)\n",
    "  ax.spines['bottom'].set_color('#DDDDDD')\n",
    "  ax.tick_params(bottom=False, left=False)\n",
    "  ax.set_axisbelow(True)\n",
    "  ax.yaxis.grid(True, color='#EEEEEE')\n",
    "  ax.xaxis.grid(False)\n",
    "\n",
    "  # Add text annotations to the top of the bars.\n",
    "  bar_color = bars[0].get_facecolor()\n",
    "  for bar in bars:\n",
    "    ax.text(\n",
    "        bar.get_x() + bar.get_width() / 2,\n",
    "        bar.get_height() + 0.3,\n",
    "        round(bar.get_height(), 1),\n",
    "        horizontalalignment='center',\n",
    "        color=bar_color,\n",
    "        weight='bold'\n",
    "    )\n",
    "\n",
    "  # Add labels and a title.\n",
    "  ax.set_xlabel('Enim kasutatavad sõnad', labelpad=15, color='#333333')\n",
    "  ax.set_ylabel('Sõnade esinemiste arv', labelpad=15, color='#333333')\n",
    "  ax.set_title(f'15 kõige sagedasemat tekstisõna [{year}]', pad=15, color='#333333',\n",
    "              weight='bold')\n",
    "\n",
    "  fig.tight_layout()"
   ],
   "execution_count": 189,
   "outputs": [
    {
     "output_type": "stream",
     "text": [
      "INFO:font_manager.py:1337: generated new fontManager\n"
     ],
     "name": "stdout"
    },
    {
     "output_type": "display_data",
     "data": {
      "image/png": "[encoded data removed]",
      "text/plain": [
       "<Figure size 864x360 with 1 Axes>"
      ]
     },
     "metadata": {
      "tags": [],
      "needs_background": "light"
     }
    },
    {
     "output_type": "display_data",
     "data": {
      "image/png": "[encoded data removed]",
      "text/plain": [
       "<Figure size 864x360 with 1 Axes>"
      ]
     },
     "metadata": {
      "tags": [],
      "needs_background": "light"
     }
    }
   ]
  }
 ]
}