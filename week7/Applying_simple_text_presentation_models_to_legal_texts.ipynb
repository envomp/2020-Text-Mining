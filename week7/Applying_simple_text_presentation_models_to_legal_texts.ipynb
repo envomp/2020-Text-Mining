{
 "cells": [
  {
   "cell_type": "raw",
   "metadata": {
    "colab": {},
    "colab_type": "code",
    "id": "SYUrHxioHQxA"
   },
   "source": [
    "!pip install conllu estnltk==1.4.1.1"
   ]
  },
  {
   "cell_type": "markdown",
   "metadata": {
    "colab_type": "text",
    "id": "IKe6QKdETtTb"
   },
   "source": [
    "Esmalt loeb failid listi ning viib nad paremini käideltatavale kujule"
   ]
  },
  {
   "cell_type": "markdown",
   "metadata": {},
   "source": [
    "def format_files(dir_name):\n",
    "    for f in listdir(dir_name):\n",
    "        with open(join(dir_name, f), 'r') as fin:\n",
    "            data = fin.read().splitlines(True)\n",
    "        with open(join(dir_name, f), 'w') as fout:\n",
    "            fout.writelines(data[1:])\n",
    "\n",
    "format_files(\"eesti_seadus\")"
   ]
  },
  {
   "cell_type": "code",
   "execution_count": 1,
   "metadata": {
    "colab": {},
    "colab_type": "code",
    "id": "dxENjZ3yMbBN",
    "pycharm": {
     "name": "#%%\n"
    },
    "scrolled": false
   },
   "outputs": [],
   "source": [
    "from estnltk import Text\n",
    "from os import listdir\n",
    "from os.path import isfile, join\n",
    "from bs4 import BeautifulSoup as bs\n",
    "import re\n",
    "import html\n",
    "\n",
    "name_matcher = r\"\\<title\\>(.+)\\<\\/title\\>\"\n",
    "sample_data = \"eesti_seadus\"\n",
    "\n",
    "def is_content_word(word):\n",
    "    return len(set(word[\"analysis\"][0][\"partofspeech\"]) & set(['S', 'V', 'A', 'C', 'U', 'D'])) > 0\n",
    "\n",
    "def lemmafy_text(text):\n",
    "    xs = Text(text).tag_analysis()\n",
    "    return \" \".join([x[\"analysis\"][0][\"lemma\"] if is_content_word(x) else '?' for x in xs.words])\n",
    "    \n",
    "\n",
    "def read_files_from_dir(dir_name):\n",
    "    total_data = []\n",
    "    corresponding_names = []\n",
    "\n",
    "    for f in listdir(dir_name):\n",
    "        if isfile(join(dir_name, f)):\n",
    "            content, name = formatted_data(join(dir_name, f))\n",
    "            total_data.append(lemmafy_text(content))\n",
    "            if name:\n",
    "                corresponding_names.append(html.unescape(name.group(1)))\n",
    "            else:\n",
    "                corresponding_names.append(f)\n",
    "    return total_data, corresponding_names\n",
    "\n",
    "def formatted_data(filename):\n",
    "    with open(filename, \"r\") as file:\n",
    "        content = \"\".join(file.readlines())\n",
    "        match = re.search(name_matcher, content)\n",
    "        bs_content = bs(content, \"lxml\")\n",
    "        return bs_content.text, match\n",
    "\n",
    "corpus, names = read_files_from_dir(sample_data)"
   ]
  },
  {
   "cell_type": "code",
   "execution_count": 2,
   "metadata": {},
   "outputs": [
    {
     "name": "stdout",
     "output_type": "stream",
     "text": [
      "BoW feature names: 28423\n",
      "BoN feature names: 420551\n",
      "TF-IDf feature names: 28423\n"
     ]
    }
   ],
   "source": [
    "from sklearn.feature_extraction.text import CountVectorizer\n",
    "from sklearn.feature_extraction.text import TfidfVectorizer\n",
    "\n",
    "BoW = CountVectorizer(analyzer='word', ngram_range=(1, 1))\n",
    "X_BoW = BoW.fit_transform(corpus)\n",
    "print(\"BoW feature names:\", len(BoW.get_feature_names()))\n",
    "\n",
    "BoN = CountVectorizer(analyzer='word', ngram_range=(2, 2))\n",
    "X_BoN = BoN.fit_transform(corpus)\n",
    "print(\"BoN feature names:\", len(BoN.get_feature_names()))\n",
    "\n",
    "Tfidf = TfidfVectorizer()\n",
    "X_Tfidf = Tfidf.fit_transform(corpus)\n",
    "print(\"TF-IDf feature names:\", len(Tfidf.get_feature_names()))"
   ]
  },
  {
   "cell_type": "code",
   "execution_count": 3,
   "metadata": {},
   "outputs": [],
   "source": [
    "from sklearn.metrics.pairwise import cosine_similarity\n",
    "\n",
    "similarities_BoW  =  []\n",
    "similarities_tfidf = []\n",
    "similarities_BoN  =  []\n",
    "\n",
    "for i in range(len(names)):\n",
    "    similarity_bow  =  [-1, -1, -1]\n",
    "    similarity_tfidf = [-1, -1, -1]\n",
    "    similarity_bon  =  [-1, -1, -1]\n",
    "\n",
    "    for j in range(len(names)):\n",
    "        if i != j:\n",
    "            bow_cosine_sim = cosine_similarity(X_BoW[i], X_BoW[j])\n",
    "            if bow_cosine_sim > similarity_bow[0]:\n",
    "                similarity_bow = [bow_cosine_sim, i, j]\n",
    "\n",
    "            tfidf_cosine_sim = cosine_similarity(X_Tfidf[i], X_Tfidf[j])\n",
    "            if tfidf_cosine_sim > similarity_tfidf[0]:\n",
    "                similarity_tfidf = [tfidf_cosine_sim, i, j]\n",
    "\n",
    "            bon_cosine_sim = cosine_similarity(X_BoN[i], X_BoN[j])\n",
    "            if bon_cosine_sim > similarity_bon[0]:\n",
    "                similarity_bon = [bon_cosine_sim, i, j]\n",
    "    \n",
    "    similarities_BoW.append((similarity_bow[1], similarity_bow[2]))\n",
    "    similarities_tfidf.append((similarity_tfidf[1], similarity_tfidf[2]))\n",
    "    similarities_BoN.append((similarity_bon[1], similarity_bon[2]))"
   ]
  },
  {
   "cell_type": "code",
   "execution_count": 4,
   "metadata": {},
   "outputs": [
    {
     "name": "stdout",
     "output_type": "stream",
     "text": [
      "BoW - BoN: 0.4413265306122449\n",
      "BoW - TF_IDF: 0.6556122448979592\n",
      "BoN - TF_IDF: 0.38010204081632654\n"
     ]
    }
   ],
   "source": [
    "print(\"BoW - BoN: \"    + str(sum([similarities_BoW[x] == similarities_BoN[x]   for x in range(len(names))]) / len(names)))\n",
    "print(\"BoW - TF_IDF: \" + str(sum([similarities_BoW[x] == similarities_tfidf[x] for x in range(len(names))]) / len(names)))\n",
    "print(\"BoN - TF_IDF: \" + str(sum([similarities_BoN[x] == similarities_tfidf[x] for x in range(len(names))]) / len(names)))"
   ]
  },
  {
   "cell_type": "code",
   "execution_count": 7,
   "metadata": {},
   "outputs": [
    {
     "name": "stdout",
     "output_type": "stream",
     "text": [
      "BoW järgi suurim seaduste grupp on suurusega (31): { Prokuratuuriseadus ( terviktekst juuni 2001 ) ,  Avaliku teenistuse seadus ( terviktekst veebr 2001 ) ,  Kaitseväeteenistuse seadus ( terviktekst dets 2001 ) ,  Asjaõigusseadus ( terviktekst dets 2001 ) ,  Elundite ja kudede siirdamise seadus ( aprill 2002 ) ,  Riigi omandisse kuuluvat maavara sisaldavale maatükile ehitise rajamise kord ( veebruar 1999 ) ,  Tsiviilseadustiku üldosa seadus ( ELIT 1996/12 ) ,  Asjaõigusseaduse rakendamise seadus ( terviktekst dets 2001 ) ,  Pärimisseadus ( terviktekst juuni 2001 ) ,  Kinnistusraamatuseadus ( terviktekst dets 2001 ) ,  Kinnisasja sundvõõrandamise seadus ( ELIT 1997/2 ) ,  Riigireservi seadus ( terviktekst dets 2001 ) ,  Riigi poolt eraõiguslike juriidiliste isikute asutamise ja nendes osalemise seadus ( september 1999 ) ,  Maareformi seadus ( terviktekst juuni 2001 ) ,  Haldusmenetluse seadus ( okt 2001 ) ,  Kohtuekspertiisiseadus ( okt 2001 ) ,  Riigivastutuse seadus ( juuni 2001 ) ,  Muinsuskaitseseadus ( okt 1999 ) ( Kehtetu - 27.02.2002 jõust.01.04.2002 - RT I 2002 , 27 , 153 ) ,  Isikuandmete kaitse seadus ( terviktekst dets 2000 ) ,  Korruptsioonivastane seadus ( terviktekst juuli 2001 ) ,  Inimgeeniuuringute seadus ( jaan 2001 ) ,  Maa hindamise seadus ( terviktekst märts 2001 ) ,  Maakorraldusseadus ( terviktekst dets 2001 ) ,  Maakatastriseadus ( terviktekst dets 2000 ) ,  Planeerimis- ja ehitusseadus ( terviktekst juuli 2001 ) ,  Arestimaja sisekorraeeskiri ( aprill 2001 ) ,  Hasartmängumaksu seadus ( dets 1999 ) ( Kehtetu - 13.03.2002 jõust.01.04.2002 - RT I 2002 , 28 , 158 ) ,  Kohtutäituri seadus ( märts 2001 ) ,  Ettevõtluse riikliku toetamise seadus ( terviktekst dets 2000 ) ,  Maamaksuseadus ( terviktekst dets 2001 ) ,  Riikliku matusetoetuse seadus ( terviktekst dets 2001 ) }\n",
      "\n",
      "TF-IDF järgi suurim seaduste grupp on suurusega (21): { Erastamisseadus ( terviktekst dets 2001 ) ,  Riigi omandisse kuuluvat maavara sisaldavale maatükile ehitise rajamise kord ( veebruar 1999 ) ,  Asjaõigusseadus ( terviktekst dets 2001 ) ,  Muinsuskaitseseadus ( okt 1999 ) ( Kehtetu - 27.02.2002 jõust.01.04.2002 - RT I 2002 , 27 , 153 ) ,  Maakorraldusseadus ( terviktekst dets 2001 ) ,  Metsaseadus ( terviktekst juuni 2001 ) ,  Elundite ja kudede siirdamise seadus ( aprill 2002 ) ,  Maa hindamise seadus ( terviktekst märts 2001 ) ,  Maamaksuseadus ( terviktekst dets 2001 ) ,  Tsiviilseadustiku üldosa seadus ( ELIT 1996/12 ) ,  Kommertspandiseadus ( september 1999 ) ,  Planeerimis- ja ehitusseadus ( terviktekst juuli 2001 ) ,  Asjaõigusseaduse rakendamise seadus ( terviktekst dets 2001 ) ,  Pärimisseadus ( terviktekst juuni 2001 ) ,  Kinnistusraamatuseadus ( terviktekst dets 2001 ) ,  Maakatastriseadus ( terviktekst dets 2000 ) ,  Kinnisasja sundvõõrandamise seadus ( ELIT 1997/2 ) ,  Keskkonnamõju hindamise ja keskkonnaauditeerimise seadus ( sept 2000 ) ,  Välismaalasele , välisriigile ... kinnisomandi üleandmise kitsendamise seadus ( ELIT 1997/2 ) ,  Riigivaraseadus ( terviktekst jaan 2001 ) ,  Maareformi seadus ( terviktekst juuni 2001 ) }\n",
      "\n",
      "BoN järgi suurim seaduste grupp on suurusega (104): { Avaliku teenistuse seadus ( terviktekst veebr 2001 ) ,  Ravimiseadus ( terviktekst juuni 2001 ) ,  Korteriomandiseadus ( terviktekst nov 2000 ) ( Kehtetu - 15.11.2000 jõust.01.07.2001 - RT I 2000 , 92 , 601 ) ,  Korteriühistuseadus ( terviktekst nov 2000 ) ,  Välisteenistuse seadus ( terviktekst mai 2001 ) ,  Riigi poolt eraõiguslike juriidiliste isikute asutamise ja nendes osalemise seadus ( september 1999 ) ,  Perekonnaseadus ( terviktekst juuni 2001 ) ,  Erakonnaseadus ( terviktekst veebr 2002 ) ,  Muinsuskaitseseadus ( okt 1999 ) ( Kehtetu - 27.02.2002 jõust.01.04.2002 - RT I 2002 , 27 , 153 ) ,  Väärtpaberituru seadus ( märts 2000 ) ( Kehtetu - 17.10.2001 jõust.01.01.2002 - RT I 2001 , 89 , 532 ) ,  Eesti vabariigi välisinvesteeringuseadus ( oktoober 1999 ) ( Kehtetu - 15.06.2000 jõust.21.07.2000 - RT I 2000 , 55 , 363 ) ,  Eesti vabariigi lastekaitse seadus ( nov 1999 ) ,  Psühhiaatrilise abi seadus ( terviktekst juuni 2001 ) ,  Mahepõllumajanduse seadus ( terviktekst mai 2000 ) ( Kehtetu - 11.04.2001 jõust.01.05.2001 - RT I 2001 , 42 , 235 ) ,  Tolliväärtuse määramise seadus ( dets 1999 ) ,  Toote nõuetekohasuse tõendamise seadus ( ELIT 16/1998 ) ( Kehtetu - 17.11.1999 jõust.01.01.2001 - RT I 1999 , 92 , 825 ) ,  Investeerimisfondide seadus ( terviktekst veebr 2002 ) ,  Pornograafilise sisuga ja vägivalda või julmust ... ( mai 98 , ELIT 15/98 ) ,  Maksukorralduse seadus ( terviktekst nov 2001 ) ,  Tubakaaktsiisi seadus ( terviktekst nov 2001 ) ,  Liiklusseadus ( terviktekst nov 1999 ) ( Kehtetu - 14.12.2000 jõust.01.02.2001 - RT I 2001 , 3 , 6 ) ,  Pakendiseadus ( mai 1998 ) ,  Kiirgusseadus ( terviktekst jaan 2002 ) ,  Toote ohutuse seadus ( terviktekst nov 2000 ) ,  Sordikaitseseadus ( märts 2000 ) ,  Hoiuste Tagamise Fondi seadus ( terviktekst veebr 2002 ) ,  Prokuratuuriseadus ( terviktekst juuni 2001 ) ,  Välisõhu kaitse seadus ( jaan 2000 ) ,  Seemne ja taimse paljundusmaterjali seadus ( terviktekst aprill 2000 ) ,  Politseiteenistuse seadus ( terviktekst okt 2001 ) ,  Energiaseadus ( terviktekst märts 2002 ) ,  Riikliku pensionikindlustuse seadus ( terviktekst jaan 2001 ) ( Kehtetu - 05.12.2001 jõust.01.01.2002 - RT I 2001 , 100 , 648 ) ,  Toote vastavusavalduse ja -tunnistuse väljaandmise tingimused ja kord ( märts 99 ) ,  Välisriigis väljaantud toote nõuetekohasust tõendava dokumendi tunnustamise kord ( märts 99 ) ,  Jälitustegevuse seadus ( terviktekst juuli 2001 ) ,  Rahapesu tõkestamise seadus ( terviktekst nov 2000 ) ,  Metsaseadus ( terviktekst juuni 2001 ) ,  Surve- ja tõsteseadme ohutuse seadus ( juuni 1999 ) ,  Ekspordi riikliku garanteerimise seadus ( mai 1999 ) ,  Väljasõidukohustuse ja sissesõidukeelu seadus ( terviktekst juuli 2001 ) ,  Isikut tõendavate dokumentide seadus ( terviktekst juuni 2001 ) ,  Lennundusseadus ( terviktekst nov 2001 ) ,  Krediidiasutuste seadus ( terviktekst dets 2001 ) ,  Raudteeseadus ( terviktekst märts 2001 ) ,  Toiduseadus ( terviktekst veebr 2002 ) ,  Tehnilise normi ja standardi seadus ( terviktekst aprill 2002 ) ,  Elektriohutusseadus ( dets 1999 ) ,  Noorsootöö seadus ( nov 1999 ) ,  Saastetasu seadus ( terviktekst dets 2001 ) ,  Teeseadus ( terviktekst mai 2001 ) ,  Ühistranspordiseadus ( terviktekst veebr 2001 ) ,  Telekommunikatsiooniseadus ( terviktekst juuni 2001 ) ,  Eesti Väärtpaberite Keskregistri seadus ( terviktekst mai 2001 ) ,  Ringhäälinguseadus ( terviktekst veebr 2002 ) ,  Advokatuuriseadus ( terviktekst dets 2001 ) ,  Kindlustustegevuse seadus ( terviktekst nov 2001 ) ,  Töötervishoiu ja tööohutuse seadus ( terviktekst veebr 2001 ) ,  Vangistusseadus ( sept 2000 ) ,  Digitaalallkirja seadus ( terviktekst juuni 2001 ) ,  Ametiühingute seadus ( sept 2000 ) ,  Eesti Vabariigi autoriõiguse seadus ( terviktekst juuni 2001 ) ,  Taimekaitseseadus ( terviktekst nov 2001 ) ,  Raamatupidamise seadus ( terviktekst veebr 2002 ) ,  Jäätmeseadus ( terviktekst juuni 2001 ) ,  Kaitseväeteenistuse seadus ( terviktekst dets 2001 ) ,  Autoveoseadus ( terviktekst aprill 2002 ) ,  Sõiduki tehnoülevaatuse eeskirja kehtestamine ( sept 2000 ) ,  Tööturuteenuse seadus ( terviktekst juuli 2001 ) ,  Keskkonnamõju hindamise ja keskkonnaauditeerimise seadus ( sept 2000 ) ,  Alkoholiaktsiisi seadus ( terviktekst nov 2001 ) ,  Maaelu ja põllumajandusturu korraldamise seadus ( terviktekst veebr 2002 ) ,  Intellektuaalset omandit rikkuva kauba sisse- ja väljaveo tõkestamise seadus ( terviktekst nov 2001 ) ,  Väärtpaberituru seadus ( märts 2002 ) ,  Tervishoiuteenuste korraldamise seadus ( veebr 2002 ) ,  Seadmete energiatõhususe seadus ( märts 2001 ) ,  Liikluskindlustuse seadus ( terviktekst aprill 2002 ) ,  Kohtuekspertiisiseadus ( okt 2001 ) ,  Aiandustoodete seadus ( terviktekst nov 2001 ) ,  Asendustäitmise ja sunniraha seadus ( terviktekst dets 2001 ) ,  Riigivastutuse seadus ( juuni 2001 ) ,  Numeratsioonivahemiku , tunnuskoodi ja lühinumbri reserveerimise ja kasutamise kord ( terviktekst aug 2001 ) ,  Sõitjate bussiliiniveo , bussijuhuveo , taksoveo ja pagasiveo üldeeskirja kehtestamine ( jaan 2001 ) ,  Tehnilise loa väljastamise kord ( veebr 2001 ) ,  Alaealise mõjutusvahendite seadus ( terviktekst juuni 2001 ) ,  Relvaseadus ( terviktekst märts 2002 ) ,  Kalapüügiseadus ( märts 2001 ) ,  Korteriomandiseadus ( veebr 2001 ) ,  Liiklusseadus ( juuni 2001 ) ,  Eesti väärtpaberite keskregistri pidamise kord ( märts 2001 ) ,  Töötervishoiu- ja tööohutusalase väljaõppe ja täiendõppe kord ( mai 2001 ) ,  Raudteeinfrastruktuuri läbilaskevõime jaotamise avaliku konkursi tingimused ja kord ( juuni 2001 ) ,  Arestimaja sisekorraeeskiri ( aprill 2001 ) ,  Veoloa andmise ja kasutamise eeskiri ( mai 2001 ) ( Kehtetu - 28.11.2001 jõust.16.12.2001 - RTL 2001 , 130 , 1888 ) ,  Eesti õhuruumi kasutamise ja lennuliikluse teenindamise tagamise korra kehtestamine ( mai 2001 ) ,  Kohtutäituri seadus ( märts 2001 ) ,  Raudteeliikluse ajutise sulgemise ja olulise piiramise kord ( juuni 2001 ) ,  Veeseadus ( terviktekst jaan 2002 ) ,  Vedelkütuse miinimumvaru seadus ( terviktekst nov 2001 ) ,  Mahepõllumajanduse seadus ( sept 2001 ) ,  Tõestamisseadus ( märts 2002 ) ,  Postiseadus ( sept 2001 ) ,  Saastuse kompleksse vältimise ja kontrollimise seadus ( märts 2002 ) ,  Patendivoliniku seadus ( veebr 2002 ) ,  Elundite ja kudede siirdamise seadus ( aprill 2002 ) }\n",
      "\n"
     ]
    }
   ],
   "source": [
    "import networkx as nx\n",
    "graphs = [(\"BoW\", similarities_BoW), (\"TF-IDF\", similarities_tfidf), (\"BoN\", similarities_BoN)]\n",
    "\n",
    "for case, graph in graphs:\n",
    "    graph = nx.Graph(graph)\n",
    "    largest = set()\n",
    "    for network in list(nx.connected_components(graph)):\n",
    "        if len(network) > len(largest):\n",
    "            largest = network\n",
    "    \n",
    "    print(case + \" järgi suurim seaduste grupp on suurusega (\" + str(len(largest)) + \"): {\" + \", \".join([names[x] for x in largest]) + \"}\\n\")"
   ]
  },
  {
   "cell_type": "markdown",
   "metadata": {},
   "source": [
    "Hinnang:\n",
    "\n",
    "---\n",
    "\n",
    "Lõppkokkuvõteks\n",
    " - Suurim seaduste grupp olid oodatust palju suurem\n",
    " - Sarnasus erinevate mudelite vahel on oodatust väiksem\n",
    " - scikit.learn ning networkx library'd on väga kasulikud\n",
    " - Seadustes on üllatavalt palju erinevaid sõnu kasutatud\n",
    " - TF-IDF on hea mõõdik sõna tähtsuse leidmiseks\n",
    " - estnltk 1.4 on keerukusastme võrra kiirem 1.6 versioonist\n",
    " - Peale vaadates BoN grupi siseselt teemade lõikes sarnasusi ei leidnud.\n",
    " - BoW gruppitas palju maaga seotud seaduseid. Ehk on seal palju raha/hüvitiste terminoloogiagat.\n",
    " - TF-IDF gruppitas omanditega seotud seadusi\n",
    "\n"
   ]
  }
 ],
 "metadata": {
  "colab": {
   "authorship_tag": "ABX9TyMX96Ps7lrwPLT+kswPV0LP",
   "collapsed_sections": [],
   "include_colab_link": true,
   "name": "Quantitative measures of text complexity for the Independence Day speeches of the Presidents of the Republic of Estonia.ipynb",
   "provenance": [],
   "toc_visible": true
  },
  "kernelspec": {
   "display_name": "Python 3",
   "language": "python",
   "name": "python3"
  },
  "language_info": {
   "codemirror_mode": {
    "name": "ipython",
    "version": 3
   },
   "file_extension": ".py",
   "mimetype": "text/x-python",
   "name": "python",
   "nbconvert_exporter": "python",
   "pygments_lexer": "ipython3",
   "version": "3.5.6"
  }
 },
 "nbformat": 4,
 "nbformat_minor": 1
}
