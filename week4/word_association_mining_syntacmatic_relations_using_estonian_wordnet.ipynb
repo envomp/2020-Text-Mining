{
 "cells": [
  {
   "cell_type": "raw",
   "metadata": {
    "pycharm": {
     "name": "#%%\n"
    },
    "scrolled": false
   },
   "source": [
    "!pip install estnltk==1.4.1.1 --user"
   ]
  },
  {
   "cell_type": "markdown",
   "metadata": {
    "pycharm": {
     "name": "#%% md\n"
    }
   },
   "source": [
    "Loeb kõik paarid mällu"
   ]
  },
  {
   "cell_type": "code",
   "execution_count": 1,
   "metadata": {
    "colab": {},
    "colab_type": "code",
    "id": "EbIla8-u-Jpw",
    "pycharm": {
     "name": "#%%\n"
    },
    "scrolled": false
   },
   "outputs": [
    {
     "ename": "SyntaxError",
     "evalue": "invalid syntax (<ipython-input-1-8dc08a3a837a>, line 46)",
     "output_type": "error",
     "traceback": [
      "\u001b[1;36m  File \u001b[1;32m\"<ipython-input-1-8dc08a3a837a>\"\u001b[1;36m, line \u001b[1;32m46\u001b[0m\n\u001b[1;33m    data += f\"\\n{get_data(child)}\"\u001b[0m\n\u001b[1;37m                                 ^\u001b[0m\n\u001b[1;31mSyntaxError\u001b[0m\u001b[1;31m:\u001b[0m invalid syntax\n"
     ]
    }
   ],
   "source": [
    "import pandas as pd\n",
    "from os import listdir\n",
    "from os.path import isfile, join\n",
    "import xml.etree.ElementTree as ET\n",
    "import ast\n",
    "from collections import Counter\n",
    "import time\n",
    "import json\n",
    "\n",
    "sample_data = [\n",
    "    (\"Raudam tasak\", \"biggest\"),\n",
    "    (\"Belials jutt3\", \"smallest\")\n",
    "]\n",
    "\n",
    "def read_files_from_dir_with_cache(dir):\n",
    "    answer = Counter()\n",
    "    for f in listdir(dir):\n",
    "        if f.endswith(\".json\"):\n",
    "            continue\n",
    "        cache_location = join(dir, f + \".json\")\n",
    "        if isfile(join(dir, f)):\n",
    "            if isfile(cache_location): \n",
    "                cache = open(cache_location, \"r\")\n",
    "                answer += Counter(json.load(cache))\n",
    "                cache.close()\n",
    "            else:\n",
    "                from estnltk import Text # 1.6.7 version was used here\n",
    "                raw_data = Text(formatted_data(join(dir, f))).tag_layer([\"words\"])\n",
    "                running_counter = Counter()\n",
    "                for word in raw_data.words:\n",
    "                    running_counter[word.text.lower()] += 1\n",
    "                cache = open(cache_location, \"w\")\n",
    "                json.dump(dict(running_counter), cache)\n",
    "                answer += running_counter\n",
    "                cache.close()\n",
    "    return answer\n",
    "\n",
    "def get_data(root):\n",
    "    if len(root.getchildren()) == 0:\n",
    "        if root.text:\n",
    "            return root.text\n",
    "        else:\n",
    "            return \"\"\n",
    "    data = \"\"\n",
    "    for child in list(root.getchildren()):\n",
    "        data += f\"\\n{get_data(child)}\"\n",
    "    return data\n",
    "\n",
    "def formatted_data(filename):\n",
    "    data = get_data(ET.parse(filename).getroot())\n",
    "    return data\n",
    "\n",
    "texts = [\n",
    "    (\n",
    "      name, \n",
    "      read_files_from_dir_with_cache(dir)\n",
    "    ) for name, dir in sample_data\n",
    "]"
   ]
  },
  {
   "cell_type": "code",
   "execution_count": null,
   "metadata": {
    "pycharm": {
     "name": "#%%\n"
    },
    "scrolled": false
   },
   "outputs": [],
   "source": [
    "from estnltk.wordnet import wn\n",
    "import re\n",
    "\n",
    "def get_synonyms(word):\n",
    "    return {synset for synset in wn.synsets(word)}\n",
    "\n",
    "def get_hyperonyms(word):\n",
    "    return {hyperonym for synset in wn.synsets(word) for hyperonym in synset.hypernyms()}\n",
    "\n",
    "for name, text in texts:\n",
    "    print(f\"\\n\\n\\n\\n{name} failis 100 suurimat sõnade gruppi:\\n\")\n",
    "    groups = dict()\n",
    "    words = dict()\n",
    "    word_reps = dict()\n",
    "    \n",
    "    # Generate a graph\n",
    "    for word, reps in text.most_common(50000):\n",
    "        if re.match(\"^[A-Za-z]*$\", word):\n",
    "            try:\n",
    "                word_links = get_hyperonyms(word) | get_synonyms(word)\n",
    "                for link in word_links:\n",
    "                    if not groups.get(link):\n",
    "                        groups[link] = set()\n",
    "                    groups[link].add(word)\n",
    "                words[word] = word_links\n",
    "                word_reps[word] = reps\n",
    "            except Exception:\n",
    "                pass # unstable functions\n",
    "    \n",
    "    def traverse(word, groups, words, graph, used_words):\n",
    "        for link in words[word]:\n",
    "            for another in groups[link]:\n",
    "                if another not in used_words:\n",
    "                    used_words.add(another)\n",
    "                    graph.add(another)\n",
    "                    traverse(another, groups, words, graph, used_words)\n",
    "    \n",
    "    graphs = []\n",
    "    used_words = set()\n",
    "    for word in words.keys():\n",
    "        if word not in used_words:\n",
    "            used_words.add(word)\n",
    "            graph = {word}\n",
    "            traverse(word, groups, words, graph, used_words)\n",
    "            graphs.append(graph)\n",
    "    \n",
    "    go = 100\n",
    "    \n",
    "    for graph in sorted(graphs, key=lambda x: len(x), reverse=True):\n",
    "        \n",
    "        if not go:\n",
    "            break\n",
    "        go -= 1\n",
    "        \n",
    "        \n",
    "        name_choise = Counter()\n",
    "        for elem in graph:\n",
    "            for link in words[elem]:\n",
    "                name_choise[link] += word_reps[elem]\n",
    "        \n",
    "        choise = name_choise.most_common(1)\n",
    "        if choise:\n",
    "            name = choise[0][0].lemmas()[0].name\n",
    "            print(name, \"- grupi elemendid: \", ', '.join(graph), \"\\n\")\n",
    "        else:\n",
    "            continue\n"
   ]
  },
  {
   "cell_type": "markdown",
   "metadata": {},
   "source": [
    "Tekkis väga suur grupp suurema teksti puhul ning see ei ütle meile väga midagi hetkel. Väiksema teksti puhul siiski andis see asjaliku vastuse"
   ]
  },
  {
   "cell_type": "code",
   "execution_count": null,
   "metadata": {
    "scrolled": false
   },
   "outputs": [],
   "source": [
    "for name, text in texts:\n",
    "    print(f\"\\n\\n\\n\\n{name} failis 100 suurimat sõnade gruppi:\\n\")\n",
    "    groups = dict()\n",
    "    word_reps = dict()\n",
    "    \n",
    "    # Generate a graph\n",
    "    for word, reps in text.most_common(50000):\n",
    "        if re.match(\"^[A-Za-z]*$\", word):\n",
    "            try:\n",
    "                word_links = get_hyperonyms(word) | get_synonyms(word)\n",
    "                for link in word_links:\n",
    "                    if not groups.get(link):\n",
    "                        groups[link] = set()\n",
    "                    groups[link].add(word)\n",
    "                word_reps[word] = reps\n",
    "            except Exception:\n",
    "                pass # unstable functions\n",
    "    \n",
    "    used_words = set()\n",
    "    sorted_groups = [(k, v) for k, v in sorted(groups.items(), key=lambda item: len(item))]\n",
    "    disjoint_groups = []\n",
    "    \n",
    "    for key, value in sorted_groups:\n",
    "        new_group = set()\n",
    "        for word in value:\n",
    "            if word not in used_words:\n",
    "                used_words.add(word)\n",
    "                new_group.add(word)\n",
    "        disjoint_groups.append((key, new_group))\n",
    "    \n",
    "    \n",
    "    go = 100\n",
    "    \n",
    "    for name, elems in sorted(disjoint_groups, key=lambda x: len(x[1]), reverse=True):\n",
    "        \n",
    "        if not go:\n",
    "            break\n",
    "        go -= 1\n",
    "        \n",
    "        if len(elems) > 0:\n",
    "            res = [f\"{x} ({word_reps[x]})\" for x in elems]\n",
    "            print(name.lemmas()[0].name, \"- grupi elemendid: \", ', '.join(res), \"\\n\")\n"
   ]
  },
  {
   "attachments": {
    "image.png": {
     "image/png": "[encoded data removed]"
    }
   },
   "cell_type": "markdown",
   "metadata": {},
   "source": [
    "### Hinnang\n",
    "\n",
    "Wordnet andis päris head tulemused. Paar imelikku `hyperonym`'i siiski eksisteeris. Näiteks kana läks inimese gruppi\n",
    "![image.png](attachment:image.png)\n",
    "\n",
    "Graafi implementatsioon ei andnud parimaid tulemusi suure andmemahuga.\n",
    "Aga grupid andsid päris hea ülevaate tekstist ning sisu kokkuvõtte saaks nendest järeldada.\n",
    "\n",
    "Grupid on kujul: grupi nimi - elemendid: element1 (kordade arv), ...\n",
    "\n"
   ]
  }
 ],
 "metadata": {
  "colab": {
   "authorship_tag": "ABX9TyPHEFjwX7rK6HWnZKO3QGZW",
   "include_colab_link": true,
   "name": "word association mining: syntacmatic relations.ipynb",
   "provenance": []
  },
  "kernelspec": {
   "display_name": "Python 3",
   "language": "python",
   "name": "python3"
  },
  "language_info": {
   "codemirror_mode": {
    "name": "ipython",
    "version": 3
   },
   "file_extension": ".py",
   "mimetype": "text/x-python",
   "name": "python",
   "nbconvert_exporter": "python",
   "pygments_lexer": "ipython3",
   "version": "3.5.6"
  }
 },
 "nbformat": 4,
 "nbformat_minor": 1
}
