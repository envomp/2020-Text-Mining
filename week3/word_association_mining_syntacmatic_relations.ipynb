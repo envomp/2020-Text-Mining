{
  "nbformat": 4,
  "nbformat_minor": 0,
  "metadata": {
    "colab": {
      "name": "word association mining: syntacmatic relations.ipynb",
      "provenance": [],
      "authorship_tag": "ABX9TyPHEFjwX7rK6HWnZKO3QGZW",
      "include_colab_link": true
    },
    "kernelspec": {
      "name": "python3",
      "display_name": "Python 3"
    }
  },
  "cells": [
    {
      "cell_type": "markdown",
      "metadata": {
        "id": "view-in-github",
        "colab_type": "text"
      },
      "source": [
        "<a href=\"https://colab.research.google.com/github/envomp/2020-Text-Mining/blob/master/week3/word_association_mining_syntacmatic_relations.ipynb\" target=\"_parent\"><img src=\"https://colab.research.google.com/assets/colab-badge.svg\" alt=\"Open In Colab\"/></a>"
      ]
    },
    {
      "cell_type": "code",
      "metadata": {
        "id": "EbIla8-u-Jpw",
        "colab_type": "code",
        "colab": {}
      },
      "source": [
        "import pandas as pd\n",
        "\n",
        "df = pd.read_excel(r'2.xlsx')\n"
      ],
      "execution_count": null,
      "outputs": []
    }
  ]
}